{
 "cells": [
  {
   "cell_type": "markdown",
   "id": "29dbc8b9-7e0e-4fd3-8d93-4d93ad4fa5ab",
   "metadata": {},
   "source": [
    "# Principal Component Analysis "
   ]
  },
  {
   "cell_type": "code",
   "execution_count": 1,
   "id": "18e8d2e0-5108-4eb2-827b-b59b17c8f20a",
   "metadata": {},
   "outputs": [],
   "source": [
    "%matplotlib widget"
   ]
  },
  {
   "cell_type": "code",
   "execution_count": 2,
   "id": "bea28cfb-816b-4784-bcfd-e98db5a2db83",
   "metadata": {},
   "outputs": [],
   "source": [
    "import pandas as pd\n",
    "import numpy as np\n",
    "import matplotlib.pyplot as plt\n",
    "from mpl_toolkits.mplot3d import Axes3D\n",
    "\n",
    "# PCA lib\n",
    "from sklearn.decomposition import PCA"
   ]
  },
  {
   "cell_type": "code",
   "execution_count": 37,
   "id": "508cd193-171d-4c37-98a2-2b62b3aeccc9",
   "metadata": {},
   "outputs": [
    {
     "name": "stdout",
     "output_type": "stream",
     "text": [
      "(40889, 11)\n"
     ]
    },
    {
     "data": {
      "text/html": [
       "<div>\n",
       "<style scoped>\n",
       "    .dataframe tbody tr th:only-of-type {\n",
       "        vertical-align: middle;\n",
       "    }\n",
       "\n",
       "    .dataframe tbody tr th {\n",
       "        vertical-align: top;\n",
       "    }\n",
       "\n",
       "    .dataframe thead th {\n",
       "        text-align: right;\n",
       "    }\n",
       "</style>\n",
       "<table border=\"1\" class=\"dataframe\">\n",
       "  <thead>\n",
       "    <tr style=\"text-align: right;\">\n",
       "      <th></th>\n",
       "      <th>attr_x</th>\n",
       "      <th>attr_y</th>\n",
       "      <th>attr_z</th>\n",
       "      <th>attr_azimuth</th>\n",
       "      <th>attr_pitch</th>\n",
       "      <th>attr_roll</th>\n",
       "    </tr>\n",
       "  </thead>\n",
       "  <tbody>\n",
       "    <tr>\n",
       "      <th>count</th>\n",
       "      <td>40889.000000</td>\n",
       "      <td>40889.000000</td>\n",
       "      <td>40889.000000</td>\n",
       "      <td>40889.000000</td>\n",
       "      <td>40889.000000</td>\n",
       "      <td>40889.000000</td>\n",
       "    </tr>\n",
       "    <tr>\n",
       "      <th>mean</th>\n",
       "      <td>0.405864</td>\n",
       "      <td>2.506323</td>\n",
       "      <td>-7.418309</td>\n",
       "      <td>183.933622</td>\n",
       "      <td>-70.557582</td>\n",
       "      <td>2.303889</td>\n",
       "    </tr>\n",
       "    <tr>\n",
       "      <th>std</th>\n",
       "      <td>1.315252</td>\n",
       "      <td>4.130076</td>\n",
       "      <td>3.955022</td>\n",
       "      <td>61.696555</td>\n",
       "      <td>140.657229</td>\n",
       "      <td>7.975448</td>\n",
       "    </tr>\n",
       "    <tr>\n",
       "      <th>min</th>\n",
       "      <td>-6.295932</td>\n",
       "      <td>-8.167532</td>\n",
       "      <td>-10.198701</td>\n",
       "      <td>0.196360</td>\n",
       "      <td>-179.985784</td>\n",
       "      <td>-34.890335</td>\n",
       "    </tr>\n",
       "    <tr>\n",
       "      <th>25%</th>\n",
       "      <td>-0.195463</td>\n",
       "      <td>0.028519</td>\n",
       "      <td>-9.614575</td>\n",
       "      <td>151.067813</td>\n",
       "      <td>-174.462020</td>\n",
       "      <td>-1.133918</td>\n",
       "    </tr>\n",
       "    <tr>\n",
       "      <th>50%</th>\n",
       "      <td>0.524390</td>\n",
       "      <td>0.936528</td>\n",
       "      <td>-9.507519</td>\n",
       "      <td>176.028911</td>\n",
       "      <td>-159.471571</td>\n",
       "      <td>3.045493</td>\n",
       "    </tr>\n",
       "    <tr>\n",
       "      <th>75%</th>\n",
       "      <td>1.232643</td>\n",
       "      <td>3.324648</td>\n",
       "      <td>-8.692197</td>\n",
       "      <td>208.455981</td>\n",
       "      <td>-68.584006</td>\n",
       "      <td>7.316644</td>\n",
       "    </tr>\n",
       "    <tr>\n",
       "      <th>max</th>\n",
       "      <td>5.577760</td>\n",
       "      <td>12.572045</td>\n",
       "      <td>10.123882</td>\n",
       "      <td>359.922203</td>\n",
       "      <td>179.983899</td>\n",
       "      <td>42.920508</td>\n",
       "    </tr>\n",
       "  </tbody>\n",
       "</table>\n",
       "</div>"
      ],
      "text/plain": [
       "             attr_x        attr_y        attr_z  attr_azimuth    attr_pitch  \\\n",
       "count  40889.000000  40889.000000  40889.000000  40889.000000  40889.000000   \n",
       "mean       0.405864      2.506323     -7.418309    183.933622    -70.557582   \n",
       "std        1.315252      4.130076      3.955022     61.696555    140.657229   \n",
       "min       -6.295932     -8.167532    -10.198701      0.196360   -179.985784   \n",
       "25%       -0.195463      0.028519     -9.614575    151.067813   -174.462020   \n",
       "50%        0.524390      0.936528     -9.507519    176.028911   -159.471571   \n",
       "75%        1.232643      3.324648     -8.692197    208.455981    -68.584006   \n",
       "max        5.577760     12.572045     10.123882    359.922203    179.983899   \n",
       "\n",
       "          attr_roll  \n",
       "count  40889.000000  \n",
       "mean       2.303889  \n",
       "std        7.975448  \n",
       "min      -34.890335  \n",
       "25%       -1.133918  \n",
       "50%        3.045493  \n",
       "75%        7.316644  \n",
       "max       42.920508  "
      ]
     },
     "execution_count": 37,
     "metadata": {},
     "output_type": "execute_result"
    }
   ],
   "source": [
    "data = pd.read_csv('../data/aggregated/aggregated_1s_outliers_imputations.csv')\n",
    "data.index = data.attr_time\n",
    "data = data.drop(['attr_time'], axis=1)\n",
    "print(data.shape)\n",
    "data.describe()"
   ]
  },
  {
   "cell_type": "code",
   "execution_count": 8,
   "id": "4ce7d209-5f3d-4aef-aefc-cdaf1f7d0e77",
   "metadata": {},
   "outputs": [
    {
     "data": {
      "text/plain": [
       "Index(['attr_x', 'attr_y', 'attr_z', 'attr_azimuth', 'attr_pitch', 'attr_roll',\n",
       "       'Label_ClimbingDown', 'Label_ClimbingUp', 'Label_Sitting',\n",
       "       'Label_Standing', 'Label_Walking'],\n",
       "      dtype='object')"
      ]
     },
     "execution_count": 8,
     "metadata": {},
     "output_type": "execute_result"
    }
   ],
   "source": [
    "data.columns"
   ]
  },
  {
   "cell_type": "markdown",
   "id": "57e93807-3158-48d6-ad58-b2eaceeeea30",
   "metadata": {},
   "source": [
    "## Accelerometer plot"
   ]
  },
  {
   "cell_type": "code",
   "execution_count": 12,
   "id": "7d2b9646-76cc-467d-80d2-70d7be837168",
   "metadata": {},
   "outputs": [
    {
     "data": {
      "application/vnd.jupyter.widget-view+json": {
       "model_id": "d19d49ae282b4adb85cfac580dac98b2",
       "version_major": 2,
       "version_minor": 0
      },
      "text/plain": [
       "Canvas(toolbar=Toolbar(toolitems=[('Home', 'Reset original view', 'home', 'home'), ('Back', 'Back to previous …"
      ]
     },
     "metadata": {},
     "output_type": "display_data"
    }
   ],
   "source": [
    "fig = plt.figure(figsize=(10, 10))\n",
    "\n",
    "lbl_cnt = 0\n",
    "for i in range(2):\n",
    "    for j in range(3):\n",
    "        if i == 1 and j > 3:\n",
    "            break\n",
    "\n",
    "        if lbl_cnt < 5: \n",
    "            ax = fig.add_subplot(2 ,3 , lbl_cnt+1, projection='3d')\n",
    "            ax.scatter3D(data.attr_x, data.attr_y, data.attr_z, c=data.iloc[:, 6+lbl_cnt]);\n",
    "            ax.set_title(data.columns[6+lbl_cnt])\n",
    "            ax.set_xlabel('attr_x')\n",
    "            ax.set_ylabel('attr_y')\n",
    "            ax.set_ylabel('attr_z')\n",
    "            \n",
    "        lbl_cnt += 1\n",
    "        \n",
    "plt.savefig('../figures/acc_per_label.pdf', format='pdf')"
   ]
  },
  {
   "cell_type": "code",
   "execution_count": 6,
   "id": "bc6aa244-9dbf-45d7-885d-64bf20a8dd53",
   "metadata": {},
   "outputs": [],
   "source": [
    "# fig = plt.figure()\n",
    "# ax = plt.axes(projection='3d')\n",
    "# ax.scatter3D(data.attr_x, data.attr_y, data.attr_z) #, c=data.Label_Walking);"
   ]
  },
  {
   "cell_type": "markdown",
   "id": "cd4241c8-0e60-42e3-b105-821276ff55d4",
   "metadata": {},
   "source": [
    "## Device Orientation Plot"
   ]
  },
  {
   "cell_type": "code",
   "execution_count": 11,
   "id": "370b5544-6a3d-4182-979c-07c2cf94b759",
   "metadata": {},
   "outputs": [
    {
     "data": {
      "application/vnd.jupyter.widget-view+json": {
       "model_id": "a375b2ddb5d349bca47731e8f6327435",
       "version_major": 2,
       "version_minor": 0
      },
      "text/plain": [
       "Canvas(toolbar=Toolbar(toolitems=[('Home', 'Reset original view', 'home', 'home'), ('Back', 'Back to previous …"
      ]
     },
     "metadata": {},
     "output_type": "display_data"
    }
   ],
   "source": [
    "fig = plt.figure(figsize=(10, 10))\n",
    "\n",
    "lbl_cnt = 0\n",
    "for i in range(2):\n",
    "    for j in range(3):\n",
    "        if i == 1 and j > 3:\n",
    "            break\n",
    "\n",
    "        if lbl_cnt < 5: \n",
    "            ax = fig.add_subplot(2 ,3 , lbl_cnt+1, projection='3d')\n",
    "            ax.scatter3D(data.attr_azimuth, data.attr_pitch, data.attr_roll, c=data.iloc[:, 6+lbl_cnt]);\n",
    "            ax.set_title(data.columns[6+lbl_cnt])\n",
    "            ax.set_xlabel('attr_x')\n",
    "            ax.set_ylabel('attr_y')\n",
    "            ax.set_ylabel('attr_z')\n",
    "            \n",
    "        lbl_cnt += 1\n",
    "        \n",
    "plt.savefig('../figures/ori_per_label.pdf')"
   ]
  },
  {
   "cell_type": "markdown",
   "id": "178f46b0-1e72-491a-aa85-2bf9627590f2",
   "metadata": {},
   "source": [
    "## PCA"
   ]
  },
  {
   "cell_type": "code",
   "execution_count": 13,
   "id": "6a3695fc-277a-4173-a14e-bc530c1fcf54",
   "metadata": {},
   "outputs": [],
   "source": [
    "features = data.iloc[:, :6].columns.values"
   ]
  },
  {
   "cell_type": "code",
   "execution_count": 14,
   "id": "ed5c8fd2-14d1-429a-b478-bf3500f3a6ca",
   "metadata": {},
   "outputs": [
    {
     "data": {
      "text/html": [
       "<div>\n",
       "<style scoped>\n",
       "    .dataframe tbody tr th:only-of-type {\n",
       "        vertical-align: middle;\n",
       "    }\n",
       "\n",
       "    .dataframe tbody tr th {\n",
       "        vertical-align: top;\n",
       "    }\n",
       "\n",
       "    .dataframe thead th {\n",
       "        text-align: right;\n",
       "    }\n",
       "</style>\n",
       "<table border=\"1\" class=\"dataframe\">\n",
       "  <thead>\n",
       "    <tr style=\"text-align: right;\">\n",
       "      <th></th>\n",
       "      <th>attr_x</th>\n",
       "      <th>attr_y</th>\n",
       "      <th>attr_z</th>\n",
       "      <th>attr_azimuth</th>\n",
       "      <th>attr_pitch</th>\n",
       "      <th>attr_roll</th>\n",
       "    </tr>\n",
       "  </thead>\n",
       "  <tbody>\n",
       "    <tr>\n",
       "      <th>count</th>\n",
       "      <td>40889.000000</td>\n",
       "      <td>40889.000000</td>\n",
       "      <td>40889.000000</td>\n",
       "      <td>40889.000000</td>\n",
       "      <td>40889.000000</td>\n",
       "      <td>40889.000000</td>\n",
       "    </tr>\n",
       "    <tr>\n",
       "      <th>mean</th>\n",
       "      <td>0.564424</td>\n",
       "      <td>0.514661</td>\n",
       "      <td>0.136813</td>\n",
       "      <td>0.510770</td>\n",
       "      <td>0.303993</td>\n",
       "      <td>0.478008</td>\n",
       "    </tr>\n",
       "    <tr>\n",
       "      <th>std</th>\n",
       "      <td>0.110770</td>\n",
       "      <td>0.199140</td>\n",
       "      <td>0.194612</td>\n",
       "      <td>0.171510</td>\n",
       "      <td>0.390747</td>\n",
       "      <td>0.102498</td>\n",
       "    </tr>\n",
       "    <tr>\n",
       "      <th>min</th>\n",
       "      <td>0.000000</td>\n",
       "      <td>0.000000</td>\n",
       "      <td>0.000000</td>\n",
       "      <td>0.000000</td>\n",
       "      <td>0.000000</td>\n",
       "      <td>0.000000</td>\n",
       "    </tr>\n",
       "    <tr>\n",
       "      <th>25%</th>\n",
       "      <td>0.513780</td>\n",
       "      <td>0.395189</td>\n",
       "      <td>0.028743</td>\n",
       "      <td>0.419407</td>\n",
       "      <td>0.015345</td>\n",
       "      <td>0.433827</td>\n",
       "    </tr>\n",
       "    <tr>\n",
       "      <th>50%</th>\n",
       "      <td>0.574406</td>\n",
       "      <td>0.438970</td>\n",
       "      <td>0.034011</td>\n",
       "      <td>0.488796</td>\n",
       "      <td>0.056989</td>\n",
       "      <td>0.487539</td>\n",
       "    </tr>\n",
       "    <tr>\n",
       "      <th>75%</th>\n",
       "      <td>0.634055</td>\n",
       "      <td>0.554118</td>\n",
       "      <td>0.074130</td>\n",
       "      <td>0.578940</td>\n",
       "      <td>0.309475</td>\n",
       "      <td>0.542431</td>\n",
       "    </tr>\n",
       "    <tr>\n",
       "      <th>max</th>\n",
       "      <td>1.000000</td>\n",
       "      <td>1.000000</td>\n",
       "      <td>1.000000</td>\n",
       "      <td>1.000000</td>\n",
       "      <td>1.000000</td>\n",
       "      <td>1.000000</td>\n",
       "    </tr>\n",
       "  </tbody>\n",
       "</table>\n",
       "</div>"
      ],
      "text/plain": [
       "             attr_x        attr_y        attr_z  attr_azimuth    attr_pitch  \\\n",
       "count  40889.000000  40889.000000  40889.000000  40889.000000  40889.000000   \n",
       "mean       0.564424      0.514661      0.136813      0.510770      0.303993   \n",
       "std        0.110770      0.199140      0.194612      0.171510      0.390747   \n",
       "min        0.000000      0.000000      0.000000      0.000000      0.000000   \n",
       "25%        0.513780      0.395189      0.028743      0.419407      0.015345   \n",
       "50%        0.574406      0.438970      0.034011      0.488796      0.056989   \n",
       "75%        0.634055      0.554118      0.074130      0.578940      0.309475   \n",
       "max        1.000000      1.000000      1.000000      1.000000      1.000000   \n",
       "\n",
       "          attr_roll  \n",
       "count  40889.000000  \n",
       "mean       0.478008  \n",
       "std        0.102498  \n",
       "min        0.000000  \n",
       "25%        0.433827  \n",
       "50%        0.487539  \n",
       "75%        0.542431  \n",
       "max        1.000000  "
      ]
     },
     "execution_count": 14,
     "metadata": {},
     "output_type": "execute_result"
    }
   ],
   "source": [
    "normalized_data = data.copy()\n",
    "normalized_data[features] = (data[features]-data[features].min())/(data[features].max()-data[features].min())\n",
    "normalized_data.describe()"
   ]
  },
  {
   "cell_type": "code",
   "execution_count": 15,
   "id": "ec77199c-d78f-4119-98da-a3cacdce6086",
   "metadata": {},
   "outputs": [
    {
     "data": {
      "text/plain": [
       "PCA(n_components=6)"
      ]
     },
     "execution_count": 15,
     "metadata": {},
     "output_type": "execute_result"
    }
   ],
   "source": [
    "pca = PCA(n_components=6)\n",
    "pca.fit(normalized_data[features])"
   ]
  },
  {
   "cell_type": "code",
   "execution_count": 22,
   "id": "d95231f2-dfbe-4279-b5c4-26c4b49bc9eb",
   "metadata": {},
   "outputs": [
    {
     "data": {
      "text/plain": [
       "array([0.56518459, 0.8113317 , 0.91749492, 0.9926239 ])"
      ]
     },
     "execution_count": 22,
     "metadata": {},
     "output_type": "execute_result"
    }
   ],
   "source": [
    "np.cumsum(pca.explained_variance_ratio_)"
   ]
  },
  {
   "cell_type": "code",
   "execution_count": 16,
   "id": "ba61de61-e68b-41c6-a08f-44684fd1eaf4",
   "metadata": {},
   "outputs": [
    {
     "data": {
      "application/vnd.jupyter.widget-view+json": {
       "model_id": "66082615108547d48a5482443db9439b",
       "version_major": 2,
       "version_minor": 0
      },
      "text/plain": [
       "Canvas(toolbar=Toolbar(toolitems=[('Home', 'Reset original view', 'home', 'home'), ('Back', 'Back to previous …"
      ]
     },
     "metadata": {},
     "output_type": "display_data"
    },
    {
     "data": {
      "text/plain": [
       "[<matplotlib.lines.Line2D at 0x11fd90640>]"
      ]
     },
     "execution_count": 16,
     "metadata": {},
     "output_type": "execute_result"
    }
   ],
   "source": [
    "plt.figure(figsize=(10, 10))\n",
    "plt.title('Principal Components Explained Variance')\n",
    "plt.plot(np.cumsum(np.insert(pca.explained_variance_ratio_, 0, 0)))"
   ]
  },
  {
   "cell_type": "code",
   "execution_count": 31,
   "id": "dbe116c9-2676-439a-b865-3db996367e59",
   "metadata": {},
   "outputs": [
    {
     "name": "stdout",
     "output_type": "stream",
     "text": [
      "(40889, 4)\n"
     ]
    }
   ],
   "source": [
    "pca = PCA(n_components=4)\n",
    "pca.fit(normalized_data[features])\n",
    "pcas = pca.transform(normalized_data[features])\n",
    "print(pcas.shape)\n",
    "\n",
    "pcas_series = {f'pca_{i}': pd.Series(pcas.T[i]) for i in range(4)}\n",
    "pcas_df = pd.DataFrame(pcas_series)"
   ]
  },
  {
   "cell_type": "code",
   "execution_count": 32,
   "id": "2fdcfe5b-eda5-4b4e-a8e3-071aac0a42a0",
   "metadata": {},
   "outputs": [
    {
     "data": {
      "text/html": [
       "<div>\n",
       "<style scoped>\n",
       "    .dataframe tbody tr th:only-of-type {\n",
       "        vertical-align: middle;\n",
       "    }\n",
       "\n",
       "    .dataframe tbody tr th {\n",
       "        vertical-align: top;\n",
       "    }\n",
       "\n",
       "    .dataframe thead th {\n",
       "        text-align: right;\n",
       "    }\n",
       "</style>\n",
       "<table border=\"1\" class=\"dataframe\">\n",
       "  <thead>\n",
       "    <tr style=\"text-align: right;\">\n",
       "      <th></th>\n",
       "      <th>pca_0</th>\n",
       "      <th>pca_1</th>\n",
       "      <th>pca_2</th>\n",
       "      <th>pca_3</th>\n",
       "    </tr>\n",
       "  </thead>\n",
       "  <tbody>\n",
       "    <tr>\n",
       "      <th>0</th>\n",
       "      <td>0.014538</td>\n",
       "      <td>0.677151</td>\n",
       "      <td>0.130312</td>\n",
       "      <td>0.222946</td>\n",
       "    </tr>\n",
       "    <tr>\n",
       "      <th>1</th>\n",
       "      <td>0.021735</td>\n",
       "      <td>0.647497</td>\n",
       "      <td>0.129872</td>\n",
       "      <td>0.220391</td>\n",
       "    </tr>\n",
       "    <tr>\n",
       "      <th>2</th>\n",
       "      <td>0.023366</td>\n",
       "      <td>0.641095</td>\n",
       "      <td>0.135996</td>\n",
       "      <td>0.244909</td>\n",
       "    </tr>\n",
       "    <tr>\n",
       "      <th>3</th>\n",
       "      <td>0.028611</td>\n",
       "      <td>0.639040</td>\n",
       "      <td>0.125829</td>\n",
       "      <td>0.208919</td>\n",
       "    </tr>\n",
       "    <tr>\n",
       "      <th>4</th>\n",
       "      <td>0.033823</td>\n",
       "      <td>0.647885</td>\n",
       "      <td>0.050111</td>\n",
       "      <td>0.169323</td>\n",
       "    </tr>\n",
       "    <tr>\n",
       "      <th>...</th>\n",
       "      <td>...</td>\n",
       "      <td>...</td>\n",
       "      <td>...</td>\n",
       "      <td>...</td>\n",
       "    </tr>\n",
       "    <tr>\n",
       "      <th>40884</th>\n",
       "      <td>-0.022980</td>\n",
       "      <td>0.671719</td>\n",
       "      <td>0.473244</td>\n",
       "      <td>0.040975</td>\n",
       "    </tr>\n",
       "    <tr>\n",
       "      <th>40885</th>\n",
       "      <td>-0.029189</td>\n",
       "      <td>0.663747</td>\n",
       "      <td>-0.030057</td>\n",
       "      <td>0.215565</td>\n",
       "    </tr>\n",
       "    <tr>\n",
       "      <th>40886</th>\n",
       "      <td>-0.051041</td>\n",
       "      <td>0.646623</td>\n",
       "      <td>0.318168</td>\n",
       "      <td>0.221181</td>\n",
       "    </tr>\n",
       "    <tr>\n",
       "      <th>40887</th>\n",
       "      <td>-0.039232</td>\n",
       "      <td>0.661887</td>\n",
       "      <td>0.500035</td>\n",
       "      <td>0.091138</td>\n",
       "    </tr>\n",
       "    <tr>\n",
       "      <th>40888</th>\n",
       "      <td>-0.034021</td>\n",
       "      <td>0.657521</td>\n",
       "      <td>-0.289947</td>\n",
       "      <td>0.302528</td>\n",
       "    </tr>\n",
       "  </tbody>\n",
       "</table>\n",
       "<p>40889 rows × 4 columns</p>\n",
       "</div>"
      ],
      "text/plain": [
       "          pca_0     pca_1     pca_2     pca_3\n",
       "0      0.014538  0.677151  0.130312  0.222946\n",
       "1      0.021735  0.647497  0.129872  0.220391\n",
       "2      0.023366  0.641095  0.135996  0.244909\n",
       "3      0.028611  0.639040  0.125829  0.208919\n",
       "4      0.033823  0.647885  0.050111  0.169323\n",
       "...         ...       ...       ...       ...\n",
       "40884 -0.022980  0.671719  0.473244  0.040975\n",
       "40885 -0.029189  0.663747 -0.030057  0.215565\n",
       "40886 -0.051041  0.646623  0.318168  0.221181\n",
       "40887 -0.039232  0.661887  0.500035  0.091138\n",
       "40888 -0.034021  0.657521 -0.289947  0.302528\n",
       "\n",
       "[40889 rows x 4 columns]"
      ]
     },
     "execution_count": 32,
     "metadata": {},
     "output_type": "execute_result"
    }
   ],
   "source": [
    "pcas_df"
   ]
  },
  {
   "cell_type": "code",
   "execution_count": 18,
   "id": "42f3f8b2-0eca-4740-9e55-6896b0c768ea",
   "metadata": {},
   "outputs": [
    {
     "data": {
      "text/html": [
       "<div>\n",
       "<style scoped>\n",
       "    .dataframe tbody tr th:only-of-type {\n",
       "        vertical-align: middle;\n",
       "    }\n",
       "\n",
       "    .dataframe tbody tr th {\n",
       "        vertical-align: top;\n",
       "    }\n",
       "\n",
       "    .dataframe thead th {\n",
       "        text-align: right;\n",
       "    }\n",
       "</style>\n",
       "<table border=\"1\" class=\"dataframe\">\n",
       "  <thead>\n",
       "    <tr style=\"text-align: right;\">\n",
       "      <th></th>\n",
       "      <th>attr_x</th>\n",
       "      <th>attr_y</th>\n",
       "      <th>attr_z</th>\n",
       "      <th>attr_azimuth</th>\n",
       "      <th>attr_pitch</th>\n",
       "      <th>attr_roll</th>\n",
       "    </tr>\n",
       "  </thead>\n",
       "  <tbody>\n",
       "    <tr>\n",
       "      <th>0</th>\n",
       "      <td>0.002932</td>\n",
       "      <td>-0.239156</td>\n",
       "      <td>-0.104037</td>\n",
       "      <td>-0.010963</td>\n",
       "      <td>0.965319</td>\n",
       "      <td>0.003285</td>\n",
       "    </tr>\n",
       "    <tr>\n",
       "      <th>1</th>\n",
       "      <td>0.105736</td>\n",
       "      <td>0.649896</td>\n",
       "      <td>0.708242</td>\n",
       "      <td>0.003361</td>\n",
       "      <td>0.236739</td>\n",
       "      <td>0.093759</td>\n",
       "    </tr>\n",
       "    <tr>\n",
       "      <th>2</th>\n",
       "      <td>-0.182850</td>\n",
       "      <td>0.032890</td>\n",
       "      <td>0.008268</td>\n",
       "      <td>0.967093</td>\n",
       "      <td>0.021164</td>\n",
       "      <td>-0.172336</td>\n",
       "    </tr>\n",
       "    <tr>\n",
       "      <th>3</th>\n",
       "      <td>-0.702263</td>\n",
       "      <td>0.065025</td>\n",
       "      <td>0.122185</td>\n",
       "      <td>-0.252595</td>\n",
       "      <td>0.030756</td>\n",
       "      <td>-0.650323</td>\n",
       "    </tr>\n",
       "  </tbody>\n",
       "</table>\n",
       "</div>"
      ],
      "text/plain": [
       "     attr_x    attr_y    attr_z  attr_azimuth  attr_pitch  attr_roll\n",
       "0  0.002932 -0.239156 -0.104037     -0.010963    0.965319   0.003285\n",
       "1  0.105736  0.649896  0.708242      0.003361    0.236739   0.093759\n",
       "2 -0.182850  0.032890  0.008268      0.967093    0.021164  -0.172336\n",
       "3 -0.702263  0.065025  0.122185     -0.252595    0.030756  -0.650323"
      ]
     },
     "execution_count": 18,
     "metadata": {},
     "output_type": "execute_result"
    }
   ],
   "source": [
    "pd.DataFrame(pca.components_, columns=features)"
   ]
  },
  {
   "cell_type": "markdown",
   "id": "45f841fa-21e4-496c-9cbb-78bf2842dbaa",
   "metadata": {},
   "source": [
    "## Analysis of labels in PCAs"
   ]
  },
  {
   "cell_type": "code",
   "execution_count": 24,
   "id": "4f4ab39b-6f41-4c9a-a485-05935a80c759",
   "metadata": {},
   "outputs": [
    {
     "data": {
      "application/vnd.jupyter.widget-view+json": {
       "model_id": "060c65de89f747d4bf307e7f903d1c7c",
       "version_major": 2,
       "version_minor": 0
      },
      "text/plain": [
       "Canvas(toolbar=Toolbar(toolitems=[('Home', 'Reset original view', 'home', 'home'), ('Back', 'Back to previous …"
      ]
     },
     "metadata": {},
     "output_type": "display_data"
    },
    {
     "data": {
      "text/plain": [
       "<mpl_toolkits.mplot3d.art3d.Path3DCollection at 0x121214310>"
      ]
     },
     "execution_count": 24,
     "metadata": {},
     "output_type": "execute_result"
    }
   ],
   "source": [
    "fig = plt.figure(figsize=(10, 10))\n",
    "ax = fig.add_subplot(1 , 1, 1, projection='3d')\n",
    "ax.scatter3D(pcas_df.iloc[: ,0], pcas_df.iloc[: ,1], pcas_df.iloc[: ,2], c=pcas_df.iloc[: ,3], cmap='Greens')"
   ]
  },
  {
   "cell_type": "code",
   "execution_count": 19,
   "id": "62ebe959-657d-4936-b2d6-aff27c2b367d",
   "metadata": {},
   "outputs": [
    {
     "data": {
      "application/vnd.jupyter.widget-view+json": {
       "model_id": "96f47e9953df46edb157de37d4fe4991",
       "version_major": 2,
       "version_minor": 0
      },
      "text/plain": [
       "Canvas(toolbar=Toolbar(toolitems=[('Home', 'Reset original view', 'home', 'home'), ('Back', 'Back to previous …"
      ]
     },
     "metadata": {},
     "output_type": "display_data"
    }
   ],
   "source": [
    "fig = plt.figure(figsize=(10, 10))\n",
    "\n",
    "lbl_cnt = 0\n",
    "for i in range(2):\n",
    "    for j in range(3):\n",
    "        if i == 1 and j > 3:\n",
    "            break\n",
    "\n",
    "        if lbl_cnt < 5:\n",
    "            ax = fig.add_subplot(2 ,3 , lbl_cnt+1, projection='3d')\n",
    "            ax.scatter3D(pcas_df.iloc[: ,0], pcas_df.iloc[: ,1], pcas_df.iloc[: ,2], c=data.iloc[:, 6+lbl_cnt])\n",
    "            ax.set_title(data.columns[6+lbl_cnt])\n",
    "            ax.set_xlabel('pca 1')\n",
    "            ax.set_ylabel('pca 2')\n",
    "            ax.set_ylabel('pca 3')\n",
    "        lbl_cnt += 1"
   ]
  },
  {
   "cell_type": "code",
   "execution_count": 11,
   "id": "38d5fb7b-f05e-4458-9e6b-121501965a92",
   "metadata": {},
   "outputs": [],
   "source": [
    "plt.show()"
   ]
  },
  {
   "cell_type": "code",
   "execution_count": 41,
   "id": "1c86e44e-76c7-4838-bc63-986fe0b51a4c",
   "metadata": {},
   "outputs": [
    {
     "data": {
      "text/html": [
       "<div>\n",
       "<style scoped>\n",
       "    .dataframe tbody tr th:only-of-type {\n",
       "        vertical-align: middle;\n",
       "    }\n",
       "\n",
       "    .dataframe tbody tr th {\n",
       "        vertical-align: top;\n",
       "    }\n",
       "\n",
       "    .dataframe thead th {\n",
       "        text-align: right;\n",
       "    }\n",
       "</style>\n",
       "<table border=\"1\" class=\"dataframe\">\n",
       "  <thead>\n",
       "    <tr style=\"text-align: right;\">\n",
       "      <th></th>\n",
       "      <th>pca_0</th>\n",
       "      <th>pca_1</th>\n",
       "      <th>pca_2</th>\n",
       "      <th>pca_3</th>\n",
       "    </tr>\n",
       "  </thead>\n",
       "  <tbody>\n",
       "    <tr>\n",
       "      <th>0</th>\n",
       "      <td>0.014538</td>\n",
       "      <td>0.677151</td>\n",
       "      <td>0.130312</td>\n",
       "      <td>0.222946</td>\n",
       "    </tr>\n",
       "    <tr>\n",
       "      <th>1</th>\n",
       "      <td>0.021735</td>\n",
       "      <td>0.647497</td>\n",
       "      <td>0.129872</td>\n",
       "      <td>0.220391</td>\n",
       "    </tr>\n",
       "    <tr>\n",
       "      <th>2</th>\n",
       "      <td>0.023366</td>\n",
       "      <td>0.641095</td>\n",
       "      <td>0.135996</td>\n",
       "      <td>0.244909</td>\n",
       "    </tr>\n",
       "    <tr>\n",
       "      <th>3</th>\n",
       "      <td>0.028611</td>\n",
       "      <td>0.639040</td>\n",
       "      <td>0.125829</td>\n",
       "      <td>0.208919</td>\n",
       "    </tr>\n",
       "    <tr>\n",
       "      <th>4</th>\n",
       "      <td>0.033823</td>\n",
       "      <td>0.647885</td>\n",
       "      <td>0.050111</td>\n",
       "      <td>0.169323</td>\n",
       "    </tr>\n",
       "    <tr>\n",
       "      <th>...</th>\n",
       "      <td>...</td>\n",
       "      <td>...</td>\n",
       "      <td>...</td>\n",
       "      <td>...</td>\n",
       "    </tr>\n",
       "    <tr>\n",
       "      <th>40884</th>\n",
       "      <td>-0.022980</td>\n",
       "      <td>0.671719</td>\n",
       "      <td>0.473244</td>\n",
       "      <td>0.040975</td>\n",
       "    </tr>\n",
       "    <tr>\n",
       "      <th>40885</th>\n",
       "      <td>-0.029189</td>\n",
       "      <td>0.663747</td>\n",
       "      <td>-0.030057</td>\n",
       "      <td>0.215565</td>\n",
       "    </tr>\n",
       "    <tr>\n",
       "      <th>40886</th>\n",
       "      <td>-0.051041</td>\n",
       "      <td>0.646623</td>\n",
       "      <td>0.318168</td>\n",
       "      <td>0.221181</td>\n",
       "    </tr>\n",
       "    <tr>\n",
       "      <th>40887</th>\n",
       "      <td>-0.039232</td>\n",
       "      <td>0.661887</td>\n",
       "      <td>0.500035</td>\n",
       "      <td>0.091138</td>\n",
       "    </tr>\n",
       "    <tr>\n",
       "      <th>40888</th>\n",
       "      <td>-0.034021</td>\n",
       "      <td>0.657521</td>\n",
       "      <td>-0.289947</td>\n",
       "      <td>0.302528</td>\n",
       "    </tr>\n",
       "  </tbody>\n",
       "</table>\n",
       "<p>40889 rows × 4 columns</p>\n",
       "</div>"
      ],
      "text/plain": [
       "          pca_0     pca_1     pca_2     pca_3\n",
       "0      0.014538  0.677151  0.130312  0.222946\n",
       "1      0.021735  0.647497  0.129872  0.220391\n",
       "2      0.023366  0.641095  0.135996  0.244909\n",
       "3      0.028611  0.639040  0.125829  0.208919\n",
       "4      0.033823  0.647885  0.050111  0.169323\n",
       "...         ...       ...       ...       ...\n",
       "40884 -0.022980  0.671719  0.473244  0.040975\n",
       "40885 -0.029189  0.663747 -0.030057  0.215565\n",
       "40886 -0.051041  0.646623  0.318168  0.221181\n",
       "40887 -0.039232  0.661887  0.500035  0.091138\n",
       "40888 -0.034021  0.657521 -0.289947  0.302528\n",
       "\n",
       "[40889 rows x 4 columns]"
      ]
     },
     "execution_count": 41,
     "metadata": {},
     "output_type": "execute_result"
    }
   ],
   "source": [
    "pcas_df"
   ]
  },
  {
   "cell_type": "code",
   "execution_count": 42,
   "id": "b42052ec-bf45-4366-8d05-64d5fc56bc5a",
   "metadata": {},
   "outputs": [
    {
     "data": {
      "text/plain": [
       "(40889, 11)"
      ]
     },
     "execution_count": 42,
     "metadata": {},
     "output_type": "execute_result"
    }
   ],
   "source": [
    "data.shape"
   ]
  },
  {
   "cell_type": "code",
   "execution_count": 53,
   "id": "09d42738-7304-404f-9073-b0aa0fd6b738",
   "metadata": {},
   "outputs": [],
   "source": [
    "final = data.reset_index().join(pcas_df)"
   ]
  },
  {
   "cell_type": "code",
   "execution_count": 54,
   "id": "b419a5f0-194f-4257-acf4-c141b29d5812",
   "metadata": {},
   "outputs": [
    {
     "data": {
      "text/html": [
       "<div>\n",
       "<style scoped>\n",
       "    .dataframe tbody tr th:only-of-type {\n",
       "        vertical-align: middle;\n",
       "    }\n",
       "\n",
       "    .dataframe tbody tr th {\n",
       "        vertical-align: top;\n",
       "    }\n",
       "\n",
       "    .dataframe thead th {\n",
       "        text-align: right;\n",
       "    }\n",
       "</style>\n",
       "<table border=\"1\" class=\"dataframe\">\n",
       "  <thead>\n",
       "    <tr style=\"text-align: right;\">\n",
       "      <th></th>\n",
       "      <th>attr_time</th>\n",
       "      <th>attr_x</th>\n",
       "      <th>attr_y</th>\n",
       "      <th>attr_z</th>\n",
       "      <th>attr_azimuth</th>\n",
       "      <th>attr_pitch</th>\n",
       "      <th>attr_roll</th>\n",
       "      <th>Label_ClimbingDown</th>\n",
       "      <th>Label_ClimbingUp</th>\n",
       "      <th>Label_Sitting</th>\n",
       "      <th>Label_Standing</th>\n",
       "      <th>Label_Walking</th>\n",
       "      <th>pca_0</th>\n",
       "      <th>pca_1</th>\n",
       "      <th>pca_2</th>\n",
       "      <th>pca_3</th>\n",
       "    </tr>\n",
       "  </thead>\n",
       "  <tbody>\n",
       "    <tr>\n",
       "      <th>0</th>\n",
       "      <td>2015-03-11 07:58:34</td>\n",
       "      <td>-0.831786</td>\n",
       "      <td>4.875592</td>\n",
       "      <td>9.513959</td>\n",
       "      <td>214.588255</td>\n",
       "      <td>-22.053092</td>\n",
       "      <td>-4.623449</td>\n",
       "      <td>False</td>\n",
       "      <td>False</td>\n",
       "      <td>False</td>\n",
       "      <td>False</td>\n",
       "      <td>False</td>\n",
       "      <td>0.014538</td>\n",
       "      <td>0.677151</td>\n",
       "      <td>0.130312</td>\n",
       "      <td>0.222946</td>\n",
       "    </tr>\n",
       "    <tr>\n",
       "      <th>1</th>\n",
       "      <td>2015-03-11 07:58:35</td>\n",
       "      <td>-0.858429</td>\n",
       "      <td>4.459560</td>\n",
       "      <td>9.043941</td>\n",
       "      <td>214.588255</td>\n",
       "      <td>-22.053092</td>\n",
       "      <td>-4.623449</td>\n",
       "      <td>False</td>\n",
       "      <td>False</td>\n",
       "      <td>False</td>\n",
       "      <td>False</td>\n",
       "      <td>False</td>\n",
       "      <td>0.021735</td>\n",
       "      <td>0.647497</td>\n",
       "      <td>0.129872</td>\n",
       "      <td>0.220391</td>\n",
       "    </tr>\n",
       "    <tr>\n",
       "      <th>2</th>\n",
       "      <td>2015-03-11 07:58:36</td>\n",
       "      <td>-1.273464</td>\n",
       "      <td>4.266862</td>\n",
       "      <td>9.139566</td>\n",
       "      <td>214.588255</td>\n",
       "      <td>-22.053092</td>\n",
       "      <td>-4.623449</td>\n",
       "      <td>False</td>\n",
       "      <td>False</td>\n",
       "      <td>False</td>\n",
       "      <td>False</td>\n",
       "      <td>False</td>\n",
       "      <td>0.023366</td>\n",
       "      <td>0.641095</td>\n",
       "      <td>0.135996</td>\n",
       "      <td>0.244909</td>\n",
       "    </tr>\n",
       "    <tr>\n",
       "      <th>3</th>\n",
       "      <td>2015-03-11 07:58:37</td>\n",
       "      <td>-0.664606</td>\n",
       "      <td>3.690015</td>\n",
       "      <td>9.443701</td>\n",
       "      <td>214.588255</td>\n",
       "      <td>-22.053092</td>\n",
       "      <td>-4.623449</td>\n",
       "      <td>False</td>\n",
       "      <td>False</td>\n",
       "      <td>False</td>\n",
       "      <td>False</td>\n",
       "      <td>False</td>\n",
       "      <td>0.028611</td>\n",
       "      <td>0.639040</td>\n",
       "      <td>0.125829</td>\n",
       "      <td>0.208919</td>\n",
       "    </tr>\n",
       "    <tr>\n",
       "      <th>4</th>\n",
       "      <td>2015-03-11 07:58:38</td>\n",
       "      <td>0.006021</td>\n",
       "      <td>3.790752</td>\n",
       "      <td>9.341636</td>\n",
       "      <td>191.741831</td>\n",
       "      <td>-20.222385</td>\n",
       "      <td>-2.729107</td>\n",
       "      <td>False</td>\n",
       "      <td>False</td>\n",
       "      <td>False</td>\n",
       "      <td>False</td>\n",
       "      <td>False</td>\n",
       "      <td>0.033823</td>\n",
       "      <td>0.647885</td>\n",
       "      <td>0.050111</td>\n",
       "      <td>0.169323</td>\n",
       "    </tr>\n",
       "    <tr>\n",
       "      <th>...</th>\n",
       "      <td>...</td>\n",
       "      <td>...</td>\n",
       "      <td>...</td>\n",
       "      <td>...</td>\n",
       "      <td>...</td>\n",
       "      <td>...</td>\n",
       "      <td>...</td>\n",
       "      <td>...</td>\n",
       "      <td>...</td>\n",
       "      <td>...</td>\n",
       "      <td>...</td>\n",
       "      <td>...</td>\n",
       "      <td>...</td>\n",
       "      <td>...</td>\n",
       "      <td>...</td>\n",
       "      <td>...</td>\n",
       "    </tr>\n",
       "    <tr>\n",
       "      <th>40884</th>\n",
       "      <td>2015-03-11 19:19:58</td>\n",
       "      <td>0.012438</td>\n",
       "      <td>5.625895</td>\n",
       "      <td>8.510872</td>\n",
       "      <td>350.116275</td>\n",
       "      <td>-33.330454</td>\n",
       "      <td>-0.766879</td>\n",
       "      <td>False</td>\n",
       "      <td>False</td>\n",
       "      <td>False</td>\n",
       "      <td>False</td>\n",
       "      <td>False</td>\n",
       "      <td>-0.022980</td>\n",
       "      <td>0.671719</td>\n",
       "      <td>0.473244</td>\n",
       "      <td>0.040975</td>\n",
       "    </tr>\n",
       "    <tr>\n",
       "      <th>40885</th>\n",
       "      <td>2015-03-11 19:19:59</td>\n",
       "      <td>-0.358253</td>\n",
       "      <td>6.073435</td>\n",
       "      <td>8.164868</td>\n",
       "      <td>158.743362</td>\n",
       "      <td>-36.486600</td>\n",
       "      <td>-3.068146</td>\n",
       "      <td>False</td>\n",
       "      <td>False</td>\n",
       "      <td>False</td>\n",
       "      <td>False</td>\n",
       "      <td>False</td>\n",
       "      <td>-0.029189</td>\n",
       "      <td>0.663747</td>\n",
       "      <td>-0.030057</td>\n",
       "      <td>0.215565</td>\n",
       "    </tr>\n",
       "    <tr>\n",
       "      <th>40886</th>\n",
       "      <td>2015-03-11 19:20:00</td>\n",
       "      <td>-1.125275</td>\n",
       "      <td>6.750274</td>\n",
       "      <td>7.516219</td>\n",
       "      <td>279.058298</td>\n",
       "      <td>-41.436647</td>\n",
       "      <td>-8.683954</td>\n",
       "      <td>False</td>\n",
       "      <td>False</td>\n",
       "      <td>False</td>\n",
       "      <td>False</td>\n",
       "      <td>False</td>\n",
       "      <td>-0.051041</td>\n",
       "      <td>0.646623</td>\n",
       "      <td>0.318168</td>\n",
       "      <td>0.221181</td>\n",
       "    </tr>\n",
       "    <tr>\n",
       "      <th>40887</th>\n",
       "      <td>2015-03-11 19:20:01</td>\n",
       "      <td>-1.125275</td>\n",
       "      <td>6.750274</td>\n",
       "      <td>7.516219</td>\n",
       "      <td>354.252050</td>\n",
       "      <td>-36.324947</td>\n",
       "      <td>0.610465</td>\n",
       "      <td>False</td>\n",
       "      <td>False</td>\n",
       "      <td>False</td>\n",
       "      <td>False</td>\n",
       "      <td>False</td>\n",
       "      <td>-0.039232</td>\n",
       "      <td>0.661887</td>\n",
       "      <td>0.500035</td>\n",
       "      <td>0.091138</td>\n",
       "    </tr>\n",
       "    <tr>\n",
       "      <th>40888</th>\n",
       "      <td>2015-03-11 19:20:02</td>\n",
       "      <td>-1.125275</td>\n",
       "      <td>6.750274</td>\n",
       "      <td>7.516219</td>\n",
       "      <td>59.956635</td>\n",
       "      <td>-37.716860</td>\n",
       "      <td>0.029125</td>\n",
       "      <td>False</td>\n",
       "      <td>False</td>\n",
       "      <td>False</td>\n",
       "      <td>False</td>\n",
       "      <td>False</td>\n",
       "      <td>-0.034021</td>\n",
       "      <td>0.657521</td>\n",
       "      <td>-0.289947</td>\n",
       "      <td>0.302528</td>\n",
       "    </tr>\n",
       "  </tbody>\n",
       "</table>\n",
       "<p>40889 rows × 16 columns</p>\n",
       "</div>"
      ],
      "text/plain": [
       "                 attr_time    attr_x    attr_y    attr_z  attr_azimuth  \\\n",
       "0      2015-03-11 07:58:34 -0.831786  4.875592  9.513959    214.588255   \n",
       "1      2015-03-11 07:58:35 -0.858429  4.459560  9.043941    214.588255   \n",
       "2      2015-03-11 07:58:36 -1.273464  4.266862  9.139566    214.588255   \n",
       "3      2015-03-11 07:58:37 -0.664606  3.690015  9.443701    214.588255   \n",
       "4      2015-03-11 07:58:38  0.006021  3.790752  9.341636    191.741831   \n",
       "...                    ...       ...       ...       ...           ...   \n",
       "40884  2015-03-11 19:19:58  0.012438  5.625895  8.510872    350.116275   \n",
       "40885  2015-03-11 19:19:59 -0.358253  6.073435  8.164868    158.743362   \n",
       "40886  2015-03-11 19:20:00 -1.125275  6.750274  7.516219    279.058298   \n",
       "40887  2015-03-11 19:20:01 -1.125275  6.750274  7.516219    354.252050   \n",
       "40888  2015-03-11 19:20:02 -1.125275  6.750274  7.516219     59.956635   \n",
       "\n",
       "       attr_pitch  attr_roll  Label_ClimbingDown  Label_ClimbingUp  \\\n",
       "0      -22.053092  -4.623449               False             False   \n",
       "1      -22.053092  -4.623449               False             False   \n",
       "2      -22.053092  -4.623449               False             False   \n",
       "3      -22.053092  -4.623449               False             False   \n",
       "4      -20.222385  -2.729107               False             False   \n",
       "...           ...        ...                 ...               ...   \n",
       "40884  -33.330454  -0.766879               False             False   \n",
       "40885  -36.486600  -3.068146               False             False   \n",
       "40886  -41.436647  -8.683954               False             False   \n",
       "40887  -36.324947   0.610465               False             False   \n",
       "40888  -37.716860   0.029125               False             False   \n",
       "\n",
       "       Label_Sitting  Label_Standing  Label_Walking     pca_0     pca_1  \\\n",
       "0              False           False          False  0.014538  0.677151   \n",
       "1              False           False          False  0.021735  0.647497   \n",
       "2              False           False          False  0.023366  0.641095   \n",
       "3              False           False          False  0.028611  0.639040   \n",
       "4              False           False          False  0.033823  0.647885   \n",
       "...              ...             ...            ...       ...       ...   \n",
       "40884          False           False          False -0.022980  0.671719   \n",
       "40885          False           False          False -0.029189  0.663747   \n",
       "40886          False           False          False -0.051041  0.646623   \n",
       "40887          False           False          False -0.039232  0.661887   \n",
       "40888          False           False          False -0.034021  0.657521   \n",
       "\n",
       "          pca_2     pca_3  \n",
       "0      0.130312  0.222946  \n",
       "1      0.129872  0.220391  \n",
       "2      0.135996  0.244909  \n",
       "3      0.125829  0.208919  \n",
       "4      0.050111  0.169323  \n",
       "...         ...       ...  \n",
       "40884  0.473244  0.040975  \n",
       "40885 -0.030057  0.215565  \n",
       "40886  0.318168  0.221181  \n",
       "40887  0.500035  0.091138  \n",
       "40888 -0.289947  0.302528  \n",
       "\n",
       "[40889 rows x 16 columns]"
      ]
     },
     "execution_count": 54,
     "metadata": {},
     "output_type": "execute_result"
    }
   ],
   "source": [
    "final"
   ]
  },
  {
   "cell_type": "code",
   "execution_count": 40,
   "id": "d9f3d7c3-8136-4757-b512-939c16a28745",
   "metadata": {},
   "outputs": [
    {
     "ename": "AttributeError",
     "evalue": "'DataFrame' object has no attribute 'pcas_0'",
     "output_type": "error",
     "traceback": [
      "\u001b[0;31m---------------------------------------------------------------------------\u001b[0m",
      "\u001b[0;31mAttributeError\u001b[0m                            Traceback (most recent call last)",
      "\u001b[0;32m<ipython-input-40-3d7cae787ad8>\u001b[0m in \u001b[0;36m<module>\u001b[0;34m\u001b[0m\n\u001b[0;32m----> 1\u001b[0;31m \u001b[0mdata\u001b[0m\u001b[0;34m.\u001b[0m\u001b[0mpcas_0\u001b[0m\u001b[0;34m\u001b[0m\u001b[0;34m\u001b[0m\u001b[0m\n\u001b[0m",
      "\u001b[0;32m~/Documents/Education/VU-CS-Master/Year1/Period6/MLQS/assignments/assignment-3/venv/lib/python3.8/site-packages/pandas/core/generic.py\u001b[0m in \u001b[0;36m__getattr__\u001b[0;34m(self, name)\u001b[0m\n\u001b[1;32m   5463\u001b[0m             \u001b[0;32mif\u001b[0m \u001b[0mself\u001b[0m\u001b[0;34m.\u001b[0m\u001b[0m_info_axis\u001b[0m\u001b[0;34m.\u001b[0m\u001b[0m_can_hold_identifiers_and_holds_name\u001b[0m\u001b[0;34m(\u001b[0m\u001b[0mname\u001b[0m\u001b[0;34m)\u001b[0m\u001b[0;34m:\u001b[0m\u001b[0;34m\u001b[0m\u001b[0;34m\u001b[0m\u001b[0m\n\u001b[1;32m   5464\u001b[0m                 \u001b[0;32mreturn\u001b[0m \u001b[0mself\u001b[0m\u001b[0;34m[\u001b[0m\u001b[0mname\u001b[0m\u001b[0;34m]\u001b[0m\u001b[0;34m\u001b[0m\u001b[0;34m\u001b[0m\u001b[0m\n\u001b[0;32m-> 5465\u001b[0;31m             \u001b[0;32mreturn\u001b[0m \u001b[0mobject\u001b[0m\u001b[0;34m.\u001b[0m\u001b[0m__getattribute__\u001b[0m\u001b[0;34m(\u001b[0m\u001b[0mself\u001b[0m\u001b[0;34m,\u001b[0m \u001b[0mname\u001b[0m\u001b[0;34m)\u001b[0m\u001b[0;34m\u001b[0m\u001b[0;34m\u001b[0m\u001b[0m\n\u001b[0m\u001b[1;32m   5466\u001b[0m \u001b[0;34m\u001b[0m\u001b[0m\n\u001b[1;32m   5467\u001b[0m     \u001b[0;32mdef\u001b[0m \u001b[0m__setattr__\u001b[0m\u001b[0;34m(\u001b[0m\u001b[0mself\u001b[0m\u001b[0;34m,\u001b[0m \u001b[0mname\u001b[0m\u001b[0;34m:\u001b[0m \u001b[0mstr\u001b[0m\u001b[0;34m,\u001b[0m \u001b[0mvalue\u001b[0m\u001b[0;34m)\u001b[0m \u001b[0;34m->\u001b[0m \u001b[0;32mNone\u001b[0m\u001b[0;34m:\u001b[0m\u001b[0;34m\u001b[0m\u001b[0;34m\u001b[0m\u001b[0m\n",
      "\u001b[0;31mAttributeError\u001b[0m: 'DataFrame' object has no attribute 'pcas_0'"
     ]
    }
   ],
   "source": []
  },
  {
   "cell_type": "code",
   "execution_count": null,
   "id": "8151297a-1a57-4f05-9a8b-ccb0113f7905",
   "metadata": {},
   "outputs": [],
   "source": []
  }
 ],
 "metadata": {
  "kernelspec": {
   "display_name": "Python 3",
   "language": "python",
   "name": "python3"
  },
  "language_info": {
   "codemirror_mode": {
    "name": "ipython",
    "version": 3
   },
   "file_extension": ".py",
   "mimetype": "text/x-python",
   "name": "python",
   "nbconvert_exporter": "python",
   "pygments_lexer": "ipython3",
   "version": "3.8.5"
  }
 },
 "nbformat": 4,
 "nbformat_minor": 5
}
