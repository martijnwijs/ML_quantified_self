{
 "cells": [
  {
   "cell_type": "markdown",
   "id": "882d1f29-0de6-478c-8934-c9dacdabdb1c",
   "metadata": {},
   "source": [
    "# Aggregated features and merge datasets\n",
    "\n",
    "## Imports"
   ]
  },
  {
   "cell_type": "code",
   "execution_count": 1,
   "id": "ff368c42-d6a3-4eb8-9493-84441ff4f6e0",
   "metadata": {},
   "outputs": [],
   "source": [
    "import pandas as pd\n",
    "import numpy as np\n",
    "import matplotlib.pyplot as plt\n",
    "from datetime import timedelta"
   ]
  },
  {
   "cell_type": "code",
   "execution_count": 2,
   "id": "74a2370a-cfb4-4997-926d-5b91d93b6c7a",
   "metadata": {},
   "outputs": [],
   "source": [
    "acc = pd.read_csv('../data/raw/SensorAccelerometerData_labeled_day1.csv')\n",
    "gps = pd.read_csv('../data/raw/SensorGPSData_labeled_day1.csv')\n",
    "ori = pd.read_csv('../data/raw/SensorOrientationData_labeled_day1.csv')"
   ]
  },
  {
   "cell_type": "code",
   "execution_count": 4,
   "id": "09e99d9f-e819-4969-8a5f-edf43191d2b4",
   "metadata": {},
   "outputs": [],
   "source": [
    "def data_prep(timestep):\n",
    "    \n",
    "    # Convert to datetime\n",
    "    acc.attr_time = pd.to_datetime(acc.attr_time, format='%d.%m.%y %H:%M:%S.%f')\n",
    "    gps.attr_time = pd.to_datetime(gps.attr_time, format='%d.%m.%y %H:%M:%S.%f')\n",
    "    ori.attr_time = pd.to_datetime(ori.attr_time, format='%d.%m.%y %H:%M:%S.%f')\n",
    "\n",
    "    # Merge, order by attr_time and set as index\n",
    "    data = pd.concat([acc, gps, ori])\n",
    "    data = data.sort_values(by='attr_time').reset_index()\n",
    "    data.index = data.attr_time\n",
    "\n",
    "    # Drop rows where label is invalid\n",
    "    data = data[data.label_valid]\n",
    "\n",
    "    # Drop unused columns \n",
    "    data = data.drop(['label_environment', 'label_deviceposition', 'label_activity', 'index', 'label_valid', 'id', 'attr_time'], axis=1)\n",
    "\n",
    "    # Replace labels unknown and not specified, plus some formatting\n",
    "    labels = data.label_posture.replace(['unknown', 'Not Specified'], np.nan)\n",
    "    labels = labels.replace('Climbing (down)', 'ClimbingDown')\n",
    "    labels = labels.replace('Climbing (up)', 'ClimbingUp')\n",
    "\n",
    "    # Explode labels\n",
    "    exploded_labels = pd.get_dummies(labels, prefix='Label')\n",
    "\n",
    "    # Groupby within timestep and merge back features with labels\n",
    "    features = data.drop('label_posture', axis=1).columns\n",
    "    merged_data = data.groupby(pd.Grouper(freq=timestep))[features].mean()\n",
    "    merged_labels = exploded_labels.groupby(pd.Grouper(freq=timestep))[exploded_labels.columns].any()\n",
    "    merged_df = merged_data.join(merged_labels)\n",
    "    \n",
    "    return merged_df"
   ]
  },
  {
   "cell_type": "code",
   "execution_count": 4,
   "id": "c2f22575-ec6a-4651-982e-bc1f2916d7b3",
   "metadata": {},
   "outputs": [],
   "source": [
    "merged_250ms = data_prep('250000us')\n",
    "merged_500ms = data_prep('500000us')\n",
    "merged_1s = data_prep('1000000us')"
   ]
  },
  {
   "cell_type": "code",
   "execution_count": 11,
   "id": "ec0dcdf2-b725-4305-a050-0fc0db229e14",
   "metadata": {},
   "outputs": [],
   "source": [
    "merged_10s = data_prep('10000000us')"
   ]
  },
  {
   "cell_type": "code",
   "execution_count": 12,
   "id": "0cff5d60-56ff-49e3-bf26-9ae1e223e50d",
   "metadata": {},
   "outputs": [],
   "source": [
    "# Write to CSV file\n",
    "# merged_250ms.to_csv('../data/aggregated/aggregated_250ms.csv')\n",
    "# merged_500ms.to_csv('../data/aggregated/aggregated_500ms.csv')\n",
    "merged_10s.to_csv('../data/aggregated/aggregated_10s.csv')"
   ]
  }
 ],
 "metadata": {
  "kernelspec": {
   "display_name": "Python 3",
   "language": "python",
   "name": "python3"
  },
  "language_info": {
   "codemirror_mode": {
    "name": "ipython",
    "version": 3
   },
   "file_extension": ".py",
   "mimetype": "text/x-python",
   "name": "python",
   "nbconvert_exporter": "python",
   "pygments_lexer": "ipython3",
   "version": "3.8.5"
  }
 },
 "nbformat": 4,
 "nbformat_minor": 5
}
